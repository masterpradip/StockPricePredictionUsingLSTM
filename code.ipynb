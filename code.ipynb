{
 "cells": [
  {
   "cell_type": "code",
   "execution_count": 1,
   "metadata": {
    "_cell_guid": "79c7e3d0-c299-4dcb-8224-4455121ee9b0",
    "_uuid": "d629ff2d2480ee46fbb7e2d37f6b5fab8052498a"
   },
   "outputs": [],
   "source": [
    "# Libraries\n",
    "import numpy as np\n",
    "import pandas as pd\n",
    "import matplotlib.pyplot as plt\n",
    "import seaborn as sns"
   ]
  },
  {
   "cell_type": "code",
   "execution_count": 2,
   "metadata": {},
   "outputs": [
    {
     "data": {
      "text/html": [
       "<div>\n",
       "<style scoped>\n",
       "    .dataframe tbody tr th:only-of-type {\n",
       "        vertical-align: middle;\n",
       "    }\n",
       "\n",
       "    .dataframe tbody tr th {\n",
       "        vertical-align: top;\n",
       "    }\n",
       "\n",
       "    .dataframe thead th {\n",
       "        text-align: right;\n",
       "    }\n",
       "</style>\n",
       "<table border=\"1\" class=\"dataframe\">\n",
       "  <thead>\n",
       "    <tr style=\"text-align: right;\">\n",
       "      <th></th>\n",
       "      <th>Date</th>\n",
       "      <th>Open</th>\n",
       "      <th>High</th>\n",
       "      <th>Low</th>\n",
       "      <th>Close</th>\n",
       "      <th>Volume</th>\n",
       "      <th>OpenInt</th>\n",
       "    </tr>\n",
       "  </thead>\n",
       "  <tbody>\n",
       "    <tr>\n",
       "      <th>0</th>\n",
       "      <td>2004-08-19</td>\n",
       "      <td>50</td>\n",
       "      <td>52.03</td>\n",
       "      <td>47.98</td>\n",
       "      <td>50.17</td>\n",
       "      <td>44703800</td>\n",
       "      <td>0</td>\n",
       "    </tr>\n",
       "    <tr>\n",
       "      <th>1</th>\n",
       "      <td>2004-08-20</td>\n",
       "      <td>50.505</td>\n",
       "      <td>54.54</td>\n",
       "      <td>50.25</td>\n",
       "      <td>54.155</td>\n",
       "      <td>22857200</td>\n",
       "      <td>0</td>\n",
       "    </tr>\n",
       "    <tr>\n",
       "      <th>2</th>\n",
       "      <td>2004-08-23</td>\n",
       "      <td>55.375</td>\n",
       "      <td>56.74</td>\n",
       "      <td>54.525</td>\n",
       "      <td>54.7</td>\n",
       "      <td>18274400</td>\n",
       "      <td>0</td>\n",
       "    </tr>\n",
       "    <tr>\n",
       "      <th>3</th>\n",
       "      <td>2004-08-24</td>\n",
       "      <td>55.62</td>\n",
       "      <td>55.8</td>\n",
       "      <td>51.785</td>\n",
       "      <td>52.435</td>\n",
       "      <td>15262600</td>\n",
       "      <td>0</td>\n",
       "    </tr>\n",
       "    <tr>\n",
       "      <th>4</th>\n",
       "      <td>2004-08-25</td>\n",
       "      <td>52.48</td>\n",
       "      <td>54</td>\n",
       "      <td>51.94</td>\n",
       "      <td>53</td>\n",
       "      <td>9197800</td>\n",
       "      <td>0</td>\n",
       "    </tr>\n",
       "  </tbody>\n",
       "</table>\n",
       "</div>"
      ],
      "text/plain": [
       "         Date    Open   High     Low   Close    Volume OpenInt\n",
       "0  2004-08-19      50  52.03   47.98   50.17  44703800       0\n",
       "1  2004-08-20  50.505  54.54   50.25  54.155  22857200       0\n",
       "2  2004-08-23  55.375  56.74  54.525    54.7  18274400       0\n",
       "3  2004-08-24   55.62   55.8  51.785  52.435  15262600       0\n",
       "4  2004-08-25   52.48     54   51.94      53   9197800       0"
      ]
     },
     "execution_count": 2,
     "metadata": {},
     "output_type": "execute_result"
    }
   ],
   "source": [
    "# Data Creation\n",
    "path = \"../input/price-volume-data-for-all-us-stocks-etfs/Stocks/googl.us.txt\"\n",
    "file = open(path)\n",
    "columns = list(file.readline().strip().split(\",\"))\n",
    "\n",
    "data = []\n",
    "for line in file.readlines():\n",
    "    data.append(line.strip().split(\",\"))\n",
    "\n",
    "df = pd.DataFrame(data=data, columns=columns)\n",
    "df.head()"
   ]
  },
  {
   "cell_type": "code",
   "execution_count": 3,
   "metadata": {},
   "outputs": [
    {
     "data": {
      "text/plain": [
       "0    50.169998\n",
       "1    54.154999\n",
       "2    54.700001\n",
       "3    52.435001\n",
       "4    53.000000\n",
       "Name: Close, dtype: float32"
      ]
     },
     "execution_count": 3,
     "metadata": {},
     "output_type": "execute_result"
    }
   ],
   "source": [
    "# Dropping unnecessary columns\n",
    "data = df.reset_index()[\"Close\"].astype(\"float32\")\n",
    "data.head()"
   ]
  },
  {
   "cell_type": "code",
   "execution_count": 4,
   "metadata": {},
   "outputs": [
    {
     "data": {
      "image/png": "[encoded data removed]",
      "text/plain": [
       "<Figure size 432x288 with 1 Axes>"
      ]
     },
     "metadata": {
      "needs_background": "light"
     },
     "output_type": "display_data"
    }
   ],
   "source": [
    "# Visualizing the closing price\n",
    "try:\n",
    "    sns.lineplot(data=data[:, 0], label=\"Closing Price\")\n",
    "except:\n",
    "    sns.lineplot(data=data, label=\"Closing Price\")"
   ]
  },
  {
   "cell_type": "code",
   "execution_count": 5,
   "metadata": {},
   "outputs": [
    {
     "name": "stdout",
     "output_type": "stream",
     "text": [
      "(3333, 1)\n"
     ]
    }
   ],
   "source": [
    "# Scaling\n",
    "from sklearn.preprocessing import MinMaxScaler\n",
    "scaler=MinMaxScaler(feature_range=(0,1))\n",
    "data=scaler.fit_transform(np.array(data).reshape(-1,1))\n",
    "print(data.shape)"
   ]
  },
  {
   "cell_type": "code",
   "execution_count": 6,
   "metadata": {},
   "outputs": [
    {
     "name": "stdout",
     "output_type": "stream",
     "text": [
      "2166 1167\n"
     ]
    }
   ],
   "source": [
    "# Splitting dataset into train and test split\n",
    "train_size = int(len(data) * 0.65)\n",
    "test_size = len(data) - train_size\n",
    "train_data, test_data = data[0:train_size,:], data[train_size:len(data), :1]\n",
    "print(train_size, test_size)"
   ]
  },
  {
   "cell_type": "code",
   "execution_count": 7,
   "metadata": {},
   "outputs": [],
   "source": [
    "# Convert an array of values into a dataset matrix\n",
    "def create_dataset(dataset, time_step=1):\n",
    "    dataX, dataY = [], []\n",
    "    for i in range(len(dataset)-time_step-1):\n",
    "        a = dataset[i:(i+time_step), 0]    \n",
    "        dataX.append(a)\n",
    "        dataY.append(dataset[i + time_step, 0])\n",
    "    return np.array(dataX), np.array(dataY)"
   ]
  },
  {
   "cell_type": "code",
   "execution_count": 8,
   "metadata": {},
   "outputs": [],
   "source": [
    "# Preparing the dataset\n",
    "time_step = 100\n",
    "X_train, y_train = create_dataset(train_data, time_step)\n",
    "X_test, y_test = create_dataset(test_data, time_step)"
   ]
  },
  {
   "cell_type": "code",
   "execution_count": 9,
   "metadata": {},
   "outputs": [
    {
     "name": "stdout",
     "output_type": "stream",
     "text": [
      "(2065, 100) (2065,)\n",
      "(1066, 100) (1066,)\n"
     ]
    }
   ],
   "source": [
    "# X and y shapes\n",
    "print(X_train.shape, y_train.shape)\n",
    "print(X_test.shape, y_test.shape)"
   ]
  },
  {
   "cell_type": "code",
   "execution_count": 10,
   "metadata": {},
   "outputs": [
    {
     "name": "stdout",
     "output_type": "stream",
     "text": [
      "(2065, 100, 1) (1066, 100, 1)\n"
     ]
    }
   ],
   "source": [
    "# Reshape input to be [samples, time steps, features] which is required for LSTM\n",
    "X_train = X_train.reshape(X_train.shape[0], X_train.shape[1] , 1)\n",
    "X_test = X_test.reshape(X_test.shape[0], X_test.shape[1] , 1)\n",
    "print(X_train.shape, X_test.shape)"
   ]
  },
  {
   "cell_type": "code",
   "execution_count": 11,
   "metadata": {},
   "outputs": [],
   "source": [
    "# Libraries\n",
    "from tensorflow.keras.models import Sequential\n",
    "from tensorflow.keras.layers import Dense\n",
    "from tensorflow.keras.layers import LSTM"
   ]
  },
  {
   "cell_type": "code",
   "execution_count": 12,
   "metadata": {},
   "outputs": [
    {
     "name": "stdout",
     "output_type": "stream",
     "text": [
      "Model: \"sequential\"\n",
      "_________________________________________________________________\n",
      "Layer (type)                 Output Shape              Param #   \n",
      "=================================================================\n",
      "lstm (LSTM)                  (None, 100, 50)           10400     \n",
      "_________________________________________________________________\n",
      "lstm_1 (LSTM)                (None, 100, 50)           20200     \n",
      "_________________________________________________________________\n",
      "lstm_2 (LSTM)                (None, 50)                20200     \n",
      "_________________________________________________________________\n",
      "dense (Dense)                (None, 1)                 51        \n",
      "=================================================================\n",
      "Total params: 50,851\n",
      "Trainable params: 50,851\n",
      "Non-trainable params: 0\n",
      "_________________________________________________________________\n"
     ]
    }
   ],
   "source": [
    "# Model\n",
    "model=Sequential()\n",
    "model.add(LSTM(50, return_sequences=True, input_shape=(100, 1)))\n",
    "model.add(LSTM(50, return_sequences=True))\n",
    "model.add(LSTM(50))\n",
    "model.add(Dense(1))\n",
    "model.compile(loss='mean_squared_error', optimizer='adam')\n",
    "model.summary()"
   ]
  },
  {
   "cell_type": "code",
   "execution_count": 13,
   "metadata": {},
   "outputs": [
    {
     "name": "stdout",
     "output_type": "stream",
     "text": [
      "Epoch 1/50\n",
      "33/33 [==============================] - 8s 232ms/step - loss: 0.0061 - val_loss: 0.0701\n",
      "Epoch 2/50\n",
      "33/33 [==============================] - 6s 186ms/step - loss: 6.8936e-04 - val_loss: 0.0026\n",
      "Epoch 3/50\n",
      "33/33 [==============================] - 6s 187ms/step - loss: 2.4454e-04 - val_loss: 9.0126e-04\n",
      "Epoch 4/50\n",
      "33/33 [==============================] - 6s 179ms/step - loss: 2.3373e-04 - val_loss: 0.0010\n",
      "Epoch 5/50\n",
      "33/33 [==============================] - 6s 182ms/step - loss: 2.2872e-04 - val_loss: 8.2896e-04\n",
      "Epoch 6/50\n",
      "33/33 [==============================] - 6s 185ms/step - loss: 2.1716e-04 - val_loss: 7.8031e-04\n",
      "Epoch 7/50\n",
      "33/33 [==============================] - 6s 183ms/step - loss: 2.0790e-04 - val_loss: 6.5116e-04\n",
      "Epoch 8/50\n",
      "33/33 [==============================] - 6s 184ms/step - loss: 2.0292e-04 - val_loss: 9.0286e-04\n",
      "Epoch 9/50\n",
      "33/33 [==============================] - 6s 185ms/step - loss: 1.9765e-04 - val_loss: 7.9191e-04\n",
      "Epoch 10/50\n",
      "33/33 [==============================] - 6s 190ms/step - loss: 1.6861e-04 - val_loss: 8.5836e-04\n",
      "Epoch 11/50\n",
      "33/33 [==============================] - 6s 181ms/step - loss: 1.6034e-04 - val_loss: 5.2541e-04\n",
      "Epoch 12/50\n",
      "33/33 [==============================] - 6s 183ms/step - loss: 1.5164e-04 - val_loss: 0.0015\n",
      "Epoch 13/50\n",
      "33/33 [==============================] - 7s 202ms/step - loss: 1.6382e-04 - val_loss: 0.0016\n",
      "Epoch 14/50\n",
      "33/33 [==============================] - 6s 187ms/step - loss: 1.4421e-04 - val_loss: 0.0015\n",
      "Epoch 15/50\n",
      "33/33 [==============================] - 6s 179ms/step - loss: 1.4402e-04 - val_loss: 0.0041\n",
      "Epoch 16/50\n",
      "33/33 [==============================] - 6s 181ms/step - loss: 1.4542e-04 - val_loss: 0.0052\n",
      "Epoch 17/50\n",
      "33/33 [==============================] - 6s 181ms/step - loss: 1.3010e-04 - val_loss: 0.0023\n",
      "Epoch 18/50\n",
      "33/33 [==============================] - 6s 184ms/step - loss: 1.3271e-04 - val_loss: 0.0037\n",
      "Epoch 19/50\n",
      "33/33 [==============================] - 6s 181ms/step - loss: 1.2057e-04 - val_loss: 0.0043\n",
      "Epoch 20/50\n",
      "33/33 [==============================] - 6s 187ms/step - loss: 1.2092e-04 - val_loss: 0.0061\n",
      "Epoch 21/50\n",
      "33/33 [==============================] - 6s 184ms/step - loss: 1.2400e-04 - val_loss: 0.0020\n",
      "Epoch 22/50\n",
      "33/33 [==============================] - 6s 181ms/step - loss: 1.1811e-04 - val_loss: 0.0021\n",
      "Epoch 23/50\n",
      "33/33 [==============================] - 6s 184ms/step - loss: 1.1589e-04 - val_loss: 0.0023\n",
      "Epoch 24/50\n",
      "33/33 [==============================] - 6s 181ms/step - loss: 1.0682e-04 - val_loss: 0.0024\n",
      "Epoch 25/50\n",
      "33/33 [==============================] - 6s 183ms/step - loss: 1.0631e-04 - val_loss: 0.0043\n",
      "Epoch 26/50\n",
      "33/33 [==============================] - 6s 179ms/step - loss: 1.0484e-04 - val_loss: 0.0018\n",
      "Epoch 27/50\n",
      "33/33 [==============================] - 6s 179ms/step - loss: 1.0336e-04 - val_loss: 0.0045\n",
      "Epoch 28/50\n",
      "33/33 [==============================] - 6s 184ms/step - loss: 9.8129e-05 - val_loss: 0.0035\n",
      "Epoch 29/50\n",
      "33/33 [==============================] - 6s 189ms/step - loss: 9.7110e-05 - val_loss: 0.0013\n",
      "Epoch 30/50\n",
      "33/33 [==============================] - 6s 188ms/step - loss: 9.7297e-05 - val_loss: 0.0013\n",
      "Epoch 31/50\n",
      "33/33 [==============================] - 6s 181ms/step - loss: 9.7914e-05 - val_loss: 0.0024\n",
      "Epoch 32/50\n",
      "33/33 [==============================] - 6s 182ms/step - loss: 1.0693e-04 - val_loss: 0.0011\n",
      "Epoch 33/50\n",
      "33/33 [==============================] - 6s 183ms/step - loss: 9.3152e-05 - val_loss: 0.0014\n",
      "Epoch 34/50\n",
      "33/33 [==============================] - 6s 178ms/step - loss: 9.2149e-05 - val_loss: 0.0025\n",
      "Epoch 35/50\n",
      "33/33 [==============================] - 6s 179ms/step - loss: 8.7103e-05 - val_loss: 0.0023\n",
      "Epoch 36/50\n",
      "33/33 [==============================] - 6s 182ms/step - loss: 8.5577e-05 - val_loss: 0.0012\n",
      "Epoch 37/50\n",
      "33/33 [==============================] - 6s 183ms/step - loss: 8.2497e-05 - val_loss: 0.0014\n",
      "Epoch 38/50\n",
      "33/33 [==============================] - 6s 182ms/step - loss: 8.4631e-05 - val_loss: 8.5801e-04\n",
      "Epoch 39/50\n",
      "33/33 [==============================] - 6s 192ms/step - loss: 8.8649e-05 - val_loss: 6.6344e-04\n",
      "Epoch 40/50\n",
      "33/33 [==============================] - 6s 185ms/step - loss: 7.9246e-05 - val_loss: 7.5559e-04\n",
      "Epoch 41/50\n",
      "33/33 [==============================] - 6s 182ms/step - loss: 8.1769e-05 - val_loss: 7.1006e-04\n",
      "Epoch 42/50\n",
      "33/33 [==============================] - 6s 180ms/step - loss: 7.9041e-05 - val_loss: 4.1530e-04\n",
      "Epoch 43/50\n",
      "33/33 [==============================] - 6s 186ms/step - loss: 7.5891e-05 - val_loss: 7.9931e-04\n",
      "Epoch 44/50\n",
      "33/33 [==============================] - 6s 182ms/step - loss: 7.9839e-05 - val_loss: 0.0016\n",
      "Epoch 45/50\n",
      "33/33 [==============================] - 6s 181ms/step - loss: 8.1074e-05 - val_loss: 9.1402e-04\n",
      "Epoch 46/50\n",
      "33/33 [==============================] - 6s 182ms/step - loss: 9.1982e-05 - val_loss: 0.0011\n",
      "Epoch 47/50\n",
      "33/33 [==============================] - 6s 183ms/step - loss: 7.4940e-05 - val_loss: 7.8925e-04\n",
      "Epoch 48/50\n",
      "33/33 [==============================] - 6s 191ms/step - loss: 7.1918e-05 - val_loss: 0.0011\n",
      "Epoch 49/50\n",
      "33/33 [==============================] - 6s 185ms/step - loss: 6.8509e-05 - val_loss: 7.5254e-04\n",
      "Epoch 50/50\n",
      "33/33 [==============================] - 6s 196ms/step - loss: 7.4059e-05 - val_loss: 7.4722e-04\n"
     ]
    },
    {
     "data": {
      "text/plain": [
       "<tensorflow.python.keras.callbacks.History at 0x7f63f40ec590>"
      ]
     },
     "execution_count": 13,
     "metadata": {},
     "output_type": "execute_result"
    }
   ],
   "source": [
    "# Run the model\n",
    "model.fit(X_train, y_train, validation_data=(X_test, y_test), epochs=50, batch_size=64)"
   ]
  },
  {
   "cell_type": "code",
   "execution_count": 14,
   "metadata": {},
   "outputs": [],
   "source": [
    "# Predicting the results\n",
    "train_predict = model.predict(X_train)\n",
    "test_predict = model.predict(X_test)\n",
    "results = np.concatenate((train_predict, test_predict), axis=0)"
   ]
  },
  {
   "cell_type": "code",
   "execution_count": 15,
   "metadata": {},
   "outputs": [
    {
     "data": {
      "image/png": "[encoded data removed]",
      "text/plain": [
       "<Figure size 432x288 with 1 Axes>"
      ]
     },
     "metadata": {
      "needs_background": "light"
     },
     "output_type": "display_data"
    }
   ],
   "source": [
    "# Original vs Predicted\n",
    "try:\n",
    "    sns.lineplot(data=data[:, 0], label=\"Original\")\n",
    "    sns.lineplot(data=results[:, 0], label=\"Predicted\")\n",
    "except:\n",
    "    sns.lineplot(data=data, label=\"Original\")\n",
    "    sns.lineplot(data=results, label=\"Predicted\")"
   ]
  },
  {
   "cell_type": "code",
   "execution_count": null,
   "metadata": {},
   "outputs": [],
   "source": []
  }
 ],
 "metadata": {
  "kernelspec": {
   "display_name": "Python 3",
   "language": "python",
   "name": "python3"
  },
  "language_info": {
   "codemirror_mode": {
    "name": "ipython",
    "version": 3
   },
   "file_extension": ".py",
   "mimetype": "text/x-python",
   "name": "python",
   "nbconvert_exporter": "python",
   "pygments_lexer": "ipython3",
   "version": "3.7.6"
  }
 },
 "nbformat": 4,
 "nbformat_minor": 4
}
